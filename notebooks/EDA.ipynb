{
 "cells": [
  {
   "cell_type": "code",
   "execution_count": 20,
   "metadata": {},
   "outputs": [],
   "source": [
    "import pandas as pd\n",
    "import numpy as np\n",
    "import streamlit as st\n",
    "import plotly.express as px"
   ]
  },
  {
   "cell_type": "code",
   "execution_count": 21,
   "metadata": {},
   "outputs": [
    {
     "name": "stdout",
     "output_type": "stream",
     "text": [
      "<class 'pandas.core.frame.DataFrame'>\n",
      "RangeIndex: 51525 entries, 0 to 51524\n",
      "Data columns (total 13 columns):\n",
      " #   Column        Non-Null Count  Dtype  \n",
      "---  ------        --------------  -----  \n",
      " 0   price         51525 non-null  int64  \n",
      " 1   model_year    47906 non-null  float64\n",
      " 2   model         51525 non-null  object \n",
      " 3   condition     51525 non-null  object \n",
      " 4   cylinders     46265 non-null  float64\n",
      " 5   fuel          51525 non-null  object \n",
      " 6   odometer      43633 non-null  float64\n",
      " 7   transmission  51525 non-null  object \n",
      " 8   type          51525 non-null  object \n",
      " 9   paint_color   42258 non-null  object \n",
      " 10  is_4wd        25572 non-null  float64\n",
      " 11  date_posted   51525 non-null  object \n",
      " 12  days_listed   51525 non-null  int64  \n",
      "dtypes: float64(4), int64(2), object(7)\n",
      "memory usage: 5.1+ MB\n"
     ]
    },
    {
     "data": {
      "text/html": [
       "<div>\n",
       "<style scoped>\n",
       "    .dataframe tbody tr th:only-of-type {\n",
       "        vertical-align: middle;\n",
       "    }\n",
       "\n",
       "    .dataframe tbody tr th {\n",
       "        vertical-align: top;\n",
       "    }\n",
       "\n",
       "    .dataframe thead th {\n",
       "        text-align: right;\n",
       "    }\n",
       "</style>\n",
       "<table border=\"1\" class=\"dataframe\">\n",
       "  <thead>\n",
       "    <tr style=\"text-align: right;\">\n",
       "      <th></th>\n",
       "      <th>price</th>\n",
       "      <th>model_year</th>\n",
       "      <th>model</th>\n",
       "      <th>condition</th>\n",
       "      <th>cylinders</th>\n",
       "      <th>fuel</th>\n",
       "      <th>odometer</th>\n",
       "      <th>transmission</th>\n",
       "      <th>type</th>\n",
       "      <th>paint_color</th>\n",
       "      <th>is_4wd</th>\n",
       "      <th>date_posted</th>\n",
       "      <th>days_listed</th>\n",
       "    </tr>\n",
       "  </thead>\n",
       "  <tbody>\n",
       "    <tr>\n",
       "      <th>0</th>\n",
       "      <td>9400</td>\n",
       "      <td>2011.0</td>\n",
       "      <td>bmw x5</td>\n",
       "      <td>good</td>\n",
       "      <td>6.0</td>\n",
       "      <td>gas</td>\n",
       "      <td>145000.0</td>\n",
       "      <td>automatic</td>\n",
       "      <td>SUV</td>\n",
       "      <td>NaN</td>\n",
       "      <td>1.0</td>\n",
       "      <td>2018-06-23</td>\n",
       "      <td>19</td>\n",
       "    </tr>\n",
       "    <tr>\n",
       "      <th>1</th>\n",
       "      <td>25500</td>\n",
       "      <td>NaN</td>\n",
       "      <td>ford f-150</td>\n",
       "      <td>good</td>\n",
       "      <td>6.0</td>\n",
       "      <td>gas</td>\n",
       "      <td>88705.0</td>\n",
       "      <td>automatic</td>\n",
       "      <td>pickup</td>\n",
       "      <td>white</td>\n",
       "      <td>1.0</td>\n",
       "      <td>2018-10-19</td>\n",
       "      <td>50</td>\n",
       "    </tr>\n",
       "    <tr>\n",
       "      <th>2</th>\n",
       "      <td>5500</td>\n",
       "      <td>2013.0</td>\n",
       "      <td>hyundai sonata</td>\n",
       "      <td>like new</td>\n",
       "      <td>4.0</td>\n",
       "      <td>gas</td>\n",
       "      <td>110000.0</td>\n",
       "      <td>automatic</td>\n",
       "      <td>sedan</td>\n",
       "      <td>red</td>\n",
       "      <td>NaN</td>\n",
       "      <td>2019-02-07</td>\n",
       "      <td>79</td>\n",
       "    </tr>\n",
       "    <tr>\n",
       "      <th>3</th>\n",
       "      <td>1500</td>\n",
       "      <td>2003.0</td>\n",
       "      <td>ford f-150</td>\n",
       "      <td>fair</td>\n",
       "      <td>8.0</td>\n",
       "      <td>gas</td>\n",
       "      <td>NaN</td>\n",
       "      <td>automatic</td>\n",
       "      <td>pickup</td>\n",
       "      <td>NaN</td>\n",
       "      <td>NaN</td>\n",
       "      <td>2019-03-22</td>\n",
       "      <td>9</td>\n",
       "    </tr>\n",
       "    <tr>\n",
       "      <th>4</th>\n",
       "      <td>14900</td>\n",
       "      <td>2017.0</td>\n",
       "      <td>chrysler 200</td>\n",
       "      <td>excellent</td>\n",
       "      <td>4.0</td>\n",
       "      <td>gas</td>\n",
       "      <td>80903.0</td>\n",
       "      <td>automatic</td>\n",
       "      <td>sedan</td>\n",
       "      <td>black</td>\n",
       "      <td>NaN</td>\n",
       "      <td>2019-04-02</td>\n",
       "      <td>28</td>\n",
       "    </tr>\n",
       "  </tbody>\n",
       "</table>\n",
       "</div>"
      ],
      "text/plain": [
       "   price  model_year           model  condition  cylinders fuel  odometer  \\\n",
       "0   9400      2011.0          bmw x5       good        6.0  gas  145000.0   \n",
       "1  25500         NaN      ford f-150       good        6.0  gas   88705.0   \n",
       "2   5500      2013.0  hyundai sonata   like new        4.0  gas  110000.0   \n",
       "3   1500      2003.0      ford f-150       fair        8.0  gas       NaN   \n",
       "4  14900      2017.0    chrysler 200  excellent        4.0  gas   80903.0   \n",
       "\n",
       "  transmission    type paint_color  is_4wd date_posted  days_listed  \n",
       "0    automatic     SUV         NaN     1.0  2018-06-23           19  \n",
       "1    automatic  pickup       white     1.0  2018-10-19           50  \n",
       "2    automatic   sedan         red     NaN  2019-02-07           79  \n",
       "3    automatic  pickup         NaN     NaN  2019-03-22            9  \n",
       "4    automatic   sedan       black     NaN  2019-04-02           28  "
      ]
     },
     "execution_count": 21,
     "metadata": {},
     "output_type": "execute_result"
    }
   ],
   "source": [
    "df = pd.read_csv(r'C:\\Users\\joeyc\\carapp\\vehicles_us.csv')\n",
    "df.info()\n",
    "df.head()"
   ]
  },
  {
   "cell_type": "code",
   "execution_count": 22,
   "metadata": {},
   "outputs": [],
   "source": [
    "# Extract the manufacturer from the 'model' column\n",
    "df['manufacturer'] = df['model'].str.split().str[0]"
   ]
  },
  {
   "cell_type": "code",
   "execution_count": 26,
   "metadata": {},
   "outputs": [
    {
     "data": {
      "text/plain": [
       "array(['bmw', 'ford', 'hyundai', 'chrysler', 'toyota', 'honda', 'kia',\n",
       "       'chevrolet', 'ram', 'gmc', 'jeep', 'nissan', 'subaru', 'dodge',\n",
       "       'mercedes-benz', 'acura', 'cadillac', 'volkswagen', 'buick'],\n",
       "      dtype=object)"
      ]
     },
     "execution_count": 26,
     "metadata": {},
     "output_type": "execute_result"
    }
   ],
   "source": [
    "manufacturer_choose=df['manufacturer'].unique()\n",
    "st.selectbox('choose a manufacurer', manufacturer_choose)\n"
   ]
  },
  {
   "cell_type": "code",
   "execution_count": null,
   "metadata": {},
   "outputs": [
    {
     "data": {
      "application/vnd.plotly.v1+json": {
       "config": {
        "plotlyServerURL": "https://plot.ly"
       },
       "data": [
        {
         "alignmentgroup": "True",
         "hovertemplate": "Vehicle Type=SUV<br>Manufacturer=%{x}<br>Count=%{y}<extra></extra>",
         "legendgroup": "SUV",
         "marker": {
          "color": "#000001",
          "pattern": {
           "shape": ""
          }
         },
         "name": "SUV",
         "offsetgroup": "SUV",
         "orientation": "v",
         "showlegend": true,
         "textposition": "auto",
         "type": "bar",
         "x": [
          "acura",
          "bmw",
          "buick",
          "cadillac",
          "chevrolet",
          "chrysler",
          "dodge",
          "ford",
          "gmc",
          "honda",
          "hyundai",
          "jeep",
          "kia",
          "mercedes-benz",
          "nissan",
          "ram",
          "subaru",
          "toyota",
          "volkswagen"
         ],
         "xaxis": "x",
         "y": [
          3,
          248,
          259,
          308,
          2285,
          1,
          7,
          2222,
          642,
          883,
          247,
          2780,
          273,
          0,
          580,
          3,
          456,
          1208,
          0
         ],
         "yaxis": "y"
        },
        {
         "alignmentgroup": "True",
         "hovertemplate": "Vehicle Type=bus<br>Manufacturer=%{x}<br>Count=%{y}<extra></extra>",
         "legendgroup": "bus",
         "marker": {
          "color": "#000002",
          "pattern": {
           "shape": ""
          }
         },
         "name": "bus",
         "offsetgroup": "bus",
         "orientation": "v",
         "showlegend": true,
         "textposition": "auto",
         "type": "bar",
         "x": [
          "acura",
          "bmw",
          "buick",
          "cadillac",
          "chevrolet",
          "chrysler",
          "dodge",
          "ford",
          "gmc",
          "honda",
          "hyundai",
          "jeep",
          "kia",
          "mercedes-benz",
          "nissan",
          "ram",
          "subaru",
          "toyota",
          "volkswagen"
         ],
         "xaxis": "x",
         "y": [
          0,
          0,
          0,
          0,
          0,
          0,
          0,
          23,
          0,
          0,
          1,
          0,
          0,
          0,
          0,
          0,
          0,
          0,
          0
         ],
         "yaxis": "y"
        },
        {
         "alignmentgroup": "True",
         "hovertemplate": "Vehicle Type=convertible<br>Manufacturer=%{x}<br>Count=%{y}<extra></extra>",
         "legendgroup": "convertible",
         "marker": {
          "color": "#000003",
          "pattern": {
           "shape": ""
          }
         },
         "name": "convertible",
         "offsetgroup": "convertible",
         "orientation": "v",
         "showlegend": true,
         "textposition": "auto",
         "type": "bar",
         "x": [
          "acura",
          "bmw",
          "buick",
          "cadillac",
          "chevrolet",
          "chrysler",
          "dodge",
          "ford",
          "gmc",
          "honda",
          "hyundai",
          "jeep",
          "kia",
          "mercedes-benz",
          "nissan",
          "ram",
          "subaru",
          "toyota",
          "volkswagen"
         ],
         "xaxis": "x",
         "y": [
          0,
          0,
          0,
          0,
          236,
          12,
          0,
          153,
          0,
          1,
          0,
          42,
          0,
          0,
          0,
          0,
          0,
          2,
          0
         ],
         "yaxis": "y"
        },
        {
         "alignmentgroup": "True",
         "hovertemplate": "Vehicle Type=coupe<br>Manufacturer=%{x}<br>Count=%{y}<extra></extra>",
         "legendgroup": "coupe",
         "marker": {
          "color": "#000004",
          "pattern": {
           "shape": ""
          }
         },
         "name": "coupe",
         "offsetgroup": "coupe",
         "orientation": "v",
         "showlegend": true,
         "textposition": "auto",
         "type": "bar",
         "x": [
          "acura",
          "bmw",
          "buick",
          "cadillac",
          "chevrolet",
          "chrysler",
          "dodge",
          "ford",
          "gmc",
          "honda",
          "hyundai",
          "jeep",
          "kia",
          "mercedes-benz",
          "nissan",
          "ram",
          "subaru",
          "toyota",
          "volkswagen"
         ],
         "xaxis": "x",
         "y": [
          0,
          0,
          0,
          0,
          985,
          4,
          9,
          828,
          0,
          365,
          11,
          0,
          0,
          0,
          67,
          0,
          2,
          22,
          10
         ],
         "yaxis": "y"
        },
        {
         "alignmentgroup": "True",
         "hovertemplate": "Vehicle Type=hatchback<br>Manufacturer=%{x}<br>Count=%{y}<extra></extra>",
         "legendgroup": "hatchback",
         "marker": {
          "color": "#000005",
          "pattern": {
           "shape": ""
          }
         },
         "name": "hatchback",
         "offsetgroup": "hatchback",
         "orientation": "v",
         "showlegend": true,
         "textposition": "auto",
         "type": "bar",
         "x": [
          "acura",
          "bmw",
          "buick",
          "cadillac",
          "chevrolet",
          "chrysler",
          "dodge",
          "ford",
          "gmc",
          "honda",
          "hyundai",
          "jeep",
          "kia",
          "mercedes-benz",
          "nissan",
          "ram",
          "subaru",
          "toyota",
          "volkswagen"
         ],
         "xaxis": "x",
         "y": [
          0,
          1,
          0,
          0,
          34,
          1,
          1,
          246,
          0,
          43,
          29,
          3,
          95,
          0,
          94,
          0,
          146,
          350,
          4
         ],
         "yaxis": "y"
        },
        {
         "alignmentgroup": "True",
         "hovertemplate": "Vehicle Type=mini-van<br>Manufacturer=%{x}<br>Count=%{y}<extra></extra>",
         "legendgroup": "mini-van",
         "marker": {
          "color": "#000006",
          "pattern": {
           "shape": ""
          }
         },
         "name": "mini-van",
         "offsetgroup": "mini-van",
         "orientation": "v",
         "showlegend": true,
         "textposition": "auto",
         "type": "bar",
         "x": [
          "acura",
          "bmw",
          "buick",
          "cadillac",
          "chevrolet",
          "chrysler",
          "dodge",
          "ford",
          "gmc",
          "honda",
          "hyundai",
          "jeep",
          "kia",
          "mercedes-benz",
          "nissan",
          "ram",
          "subaru",
          "toyota",
          "volkswagen"
         ],
         "xaxis": "x",
         "y": [
          0,
          0,
          0,
          0,
          2,
          238,
          396,
          1,
          0,
          320,
          1,
          0,
          2,
          0,
          0,
          0,
          0,
          201,
          0
         ],
         "yaxis": "y"
        },
        {
         "alignmentgroup": "True",
         "hovertemplate": "Vehicle Type=offroad<br>Manufacturer=%{x}<br>Count=%{y}<extra></extra>",
         "legendgroup": "offroad",
         "marker": {
          "color": "#000007",
          "pattern": {
           "shape": ""
          }
         },
         "name": "offroad",
         "offsetgroup": "offroad",
         "orientation": "v",
         "showlegend": true,
         "textposition": "auto",
         "type": "bar",
         "x": [
          "acura",
          "bmw",
          "buick",
          "cadillac",
          "chevrolet",
          "chrysler",
          "dodge",
          "ford",
          "gmc",
          "honda",
          "hyundai",
          "jeep",
          "kia",
          "mercedes-benz",
          "nissan",
          "ram",
          "subaru",
          "toyota",
          "volkswagen"
         ],
         "xaxis": "x",
         "y": [
          0,
          0,
          0,
          0,
          14,
          0,
          2,
          9,
          6,
          2,
          0,
          162,
          0,
          0,
          1,
          1,
          0,
          17,
          0
         ],
         "yaxis": "y"
        },
        {
         "alignmentgroup": "True",
         "hovertemplate": "Vehicle Type=other<br>Manufacturer=%{x}<br>Count=%{y}<extra></extra>",
         "legendgroup": "other",
         "marker": {
          "color": "#000008",
          "pattern": {
           "shape": ""
          }
         },
         "name": "other",
         "offsetgroup": "other",
         "orientation": "v",
         "showlegend": true,
         "textposition": "auto",
         "type": "bar",
         "x": [
          "acura",
          "bmw",
          "buick",
          "cadillac",
          "chevrolet",
          "chrysler",
          "dodge",
          "ford",
          "gmc",
          "honda",
          "hyundai",
          "jeep",
          "kia",
          "mercedes-benz",
          "nissan",
          "ram",
          "subaru",
          "toyota",
          "volkswagen"
         ],
         "xaxis": "x",
         "y": [
          2,
          0,
          0,
          0,
          52,
          3,
          5,
          33,
          1,
          15,
          12,
          71,
          2,
          0,
          22,
          8,
          2,
          26,
          2
         ],
         "yaxis": "y"
        },
        {
         "alignmentgroup": "True",
         "hovertemplate": "Vehicle Type=pickup<br>Manufacturer=%{x}<br>Count=%{y}<extra></extra>",
         "legendgroup": "pickup",
         "marker": {
          "color": "#000009",
          "pattern": {
           "shape": ""
          }
         },
         "name": "pickup",
         "offsetgroup": "pickup",
         "orientation": "v",
         "showlegend": true,
         "textposition": "auto",
         "type": "bar",
         "x": [
          "acura",
          "bmw",
          "buick",
          "cadillac",
          "chevrolet",
          "chrysler",
          "dodge",
          "ford",
          "gmc",
          "honda",
          "hyundai",
          "jeep",
          "kia",
          "mercedes-benz",
          "nissan",
          "ram",
          "subaru",
          "toyota",
          "volkswagen"
         ],
         "xaxis": "x",
         "y": [
          0,
          0,
          0,
          9,
          1877,
          0,
          104,
          2356,
          534,
          0,
          0,
          1,
          1,
          0,
          458,
          1112,
          0,
          536,
          0
         ],
         "yaxis": "y"
        },
        {
         "alignmentgroup": "True",
         "hovertemplate": "Vehicle Type=sedan<br>Manufacturer=%{x}<br>Count=%{y}<extra></extra>",
         "legendgroup": "sedan",
         "marker": {
          "color": "#000010",
          "pattern": {
           "shape": ""
          }
         },
         "name": "sedan",
         "offsetgroup": "sedan",
         "orientation": "v",
         "showlegend": true,
         "textposition": "auto",
         "type": "bar",
         "x": [
          "acura",
          "bmw",
          "buick",
          "cadillac",
          "chevrolet",
          "chrysler",
          "dodge",
          "ford",
          "gmc",
          "honda",
          "hyundai",
          "jeep",
          "kia",
          "mercedes-benz",
          "nissan",
          "ram",
          "subaru",
          "toyota",
          "volkswagen"
         ],
         "xaxis": "x",
         "y": [
          231,
          5,
          1,
          2,
          1700,
          541,
          402,
          2047,
          0,
          1624,
          848,
          4,
          54,
          0,
          1691,
          1,
          149,
          2045,
          809
         ],
         "yaxis": "y"
        },
        {
         "alignmentgroup": "True",
         "hovertemplate": "Vehicle Type=truck<br>Manufacturer=%{x}<br>Count=%{y}<extra></extra>",
         "legendgroup": "truck",
         "marker": {
          "color": "#000001",
          "pattern": {
           "shape": ""
          }
         },
         "name": "truck",
         "offsetgroup": "truck",
         "orientation": "v",
         "showlegend": true,
         "textposition": "auto",
         "type": "bar",
         "x": [
          "acura",
          "bmw",
          "buick",
          "cadillac",
          "chevrolet",
          "chrysler",
          "dodge",
          "ford",
          "gmc",
          "honda",
          "hyundai",
          "jeep",
          "kia",
          "mercedes-benz",
          "nissan",
          "ram",
          "subaru",
          "toyota",
          "volkswagen"
         ],
         "xaxis": "x",
         "y": [
          0,
          3,
          2,
          3,
          3277,
          0,
          135,
          4452,
          1188,
          7,
          1,
          34,
          0,
          0,
          174,
          2181,
          0,
          896,
          0
         ],
         "yaxis": "y"
        },
        {
         "alignmentgroup": "True",
         "hovertemplate": "Vehicle Type=van<br>Manufacturer=%{x}<br>Count=%{y}<extra></extra>",
         "legendgroup": "van",
         "marker": {
          "color": "#000002",
          "pattern": {
           "shape": ""
          }
         },
         "name": "van",
         "offsetgroup": "van",
         "orientation": "v",
         "showlegend": true,
         "textposition": "auto",
         "type": "bar",
         "x": [
          "acura",
          "bmw",
          "buick",
          "cadillac",
          "chevrolet",
          "chrysler",
          "dodge",
          "ford",
          "gmc",
          "honda",
          "hyundai",
          "jeep",
          "kia",
          "mercedes-benz",
          "nissan",
          "ram",
          "subaru",
          "toyota",
          "volkswagen"
         ],
         "xaxis": "x",
         "y": [
          0,
          1,
          1,
          0,
          5,
          37,
          190,
          111,
          1,
          125,
          0,
          2,
          0,
          41,
          1,
          8,
          0,
          110,
          0
         ],
         "yaxis": "y"
        },
        {
         "alignmentgroup": "True",
         "hovertemplate": "Vehicle Type=wagon<br>Manufacturer=%{x}<br>Count=%{y}<extra></extra>",
         "legendgroup": "wagon",
         "marker": {
          "color": "#000003",
          "pattern": {
           "shape": ""
          }
         },
         "name": "wagon",
         "offsetgroup": "wagon",
         "orientation": "v",
         "showlegend": true,
         "textposition": "auto",
         "type": "bar",
         "x": [
          "acura",
          "bmw",
          "buick",
          "cadillac",
          "chevrolet",
          "chrysler",
          "dodge",
          "ford",
          "gmc",
          "honda",
          "hyundai",
          "jeep",
          "kia",
          "mercedes-benz",
          "nissan",
          "ram",
          "subaru",
          "toyota",
          "volkswagen"
         ],
         "xaxis": "x",
         "y": [
          0,
          9,
          8,
          0,
          144,
          1,
          4,
          191,
          6,
          100,
          23,
          182,
          158,
          0,
          120,
          2,
          517,
          32,
          44
         ],
         "yaxis": "y"
        }
       ],
       "layout": {
        "barmode": "stack",
        "legend": {
         "title": {
          "text": "Vehicle Type"
         },
         "tracegroupgap": 0
        },
        "template": {
         "data": {
          "candlestick": [
           {
            "decreasing": {
             "line": {
              "color": "#000033"
             }
            },
            "increasing": {
             "line": {
              "color": "#000032"
             }
            },
            "type": "candlestick"
           }
          ],
          "contour": [
           {
            "colorscale": [
             [
              0,
              "#000011"
             ],
             [
              0.1111111111111111,
              "#000012"
             ],
             [
              0.2222222222222222,
              "#000013"
             ],
             [
              0.3333333333333333,
              "#000014"
             ],
             [
              0.4444444444444444,
              "#000015"
             ],
             [
              0.5555555555555556,
              "#000016"
             ],
             [
              0.6666666666666666,
              "#000017"
             ],
             [
              0.7777777777777778,
              "#000018"
             ],
             [
              0.8888888888888888,
              "#000019"
             ],
             [
              1,
              "#000020"
             ]
            ],
            "type": "contour"
           }
          ],
          "contourcarpet": [
           {
            "colorscale": [
             [
              0,
              "#000011"
             ],
             [
              0.1111111111111111,
              "#000012"
             ],
             [
              0.2222222222222222,
              "#000013"
             ],
             [
              0.3333333333333333,
              "#000014"
             ],
             [
              0.4444444444444444,
              "#000015"
             ],
             [
              0.5555555555555556,
              "#000016"
             ],
             [
              0.6666666666666666,
              "#000017"
             ],
             [
              0.7777777777777778,
              "#000018"
             ],
             [
              0.8888888888888888,
              "#000019"
             ],
             [
              1,
              "#000020"
             ]
            ],
            "type": "contourcarpet"
           }
          ],
          "heatmap": [
           {
            "colorscale": [
             [
              0,
              "#000011"
             ],
             [
              0.1111111111111111,
              "#000012"
             ],
             [
              0.2222222222222222,
              "#000013"
             ],
             [
              0.3333333333333333,
              "#000014"
             ],
             [
              0.4444444444444444,
              "#000015"
             ],
             [
              0.5555555555555556,
              "#000016"
             ],
             [
              0.6666666666666666,
              "#000017"
             ],
             [
              0.7777777777777778,
              "#000018"
             ],
             [
              0.8888888888888888,
              "#000019"
             ],
             [
              1,
              "#000020"
             ]
            ],
            "type": "heatmap"
           }
          ],
          "histogram2d": [
           {
            "colorscale": [
             [
              0,
              "#000011"
             ],
             [
              0.1111111111111111,
              "#000012"
             ],
             [
              0.2222222222222222,
              "#000013"
             ],
             [
              0.3333333333333333,
              "#000014"
             ],
             [
              0.4444444444444444,
              "#000015"
             ],
             [
              0.5555555555555556,
              "#000016"
             ],
             [
              0.6666666666666666,
              "#000017"
             ],
             [
              0.7777777777777778,
              "#000018"
             ],
             [
              0.8888888888888888,
              "#000019"
             ],
             [
              1,
              "#000020"
             ]
            ],
            "type": "histogram2d"
           }
          ],
          "icicle": [
           {
            "textfont": {
             "color": "white"
            },
            "type": "icicle"
           }
          ],
          "sankey": [
           {
            "textfont": {
             "color": "#000036"
            },
            "type": "sankey"
           }
          ],
          "scatter": [
           {
            "marker": {
             "line": {
              "width": 0
             }
            },
            "type": "scatter"
           }
          ],
          "table": [
           {
            "cells": {
             "fill": {
              "color": "#000038"
             },
             "font": {
              "color": "#000037"
             },
             "line": {
              "color": "#000039"
             }
            },
            "header": {
             "fill": {
              "color": "#000040"
             },
             "font": {
              "color": "#000036"
             },
             "line": {
              "color": "#000039"
             }
            },
            "type": "table"
           }
          ],
          "waterfall": [
           {
            "connector": {
             "line": {
              "color": "#000036",
              "width": 2
             }
            },
            "decreasing": {
             "marker": {
              "color": "#000033"
             }
            },
            "increasing": {
             "marker": {
              "color": "#000032"
             }
            },
            "totals": {
             "marker": {
              "color": "#000034"
             }
            },
            "type": "waterfall"
           }
          ]
         },
         "layout": {
          "coloraxis": {
           "colorscale": [
            [
             0,
             "#000011"
            ],
            [
             0.1111111111111111,
             "#000012"
            ],
            [
             0.2222222222222222,
             "#000013"
            ],
            [
             0.3333333333333333,
             "#000014"
            ],
            [
             0.4444444444444444,
             "#000015"
            ],
            [
             0.5555555555555556,
             "#000016"
            ],
            [
             0.6666666666666666,
             "#000017"
            ],
            [
             0.7777777777777778,
             "#000018"
            ],
            [
             0.8888888888888888,
             "#000019"
            ],
            [
             1,
             "#000020"
            ]
           ]
          },
          "colorscale": {
           "diverging": [
            [
             0,
             "#000021"
            ],
            [
             0.1,
             "#000022"
            ],
            [
             0.2,
             "#000023"
            ],
            [
             0.3,
             "#000024"
            ],
            [
             0.4,
             "#000025"
            ],
            [
             0.5,
             "#000026"
            ],
            [
             0.6,
             "#000027"
            ],
            [
             0.7,
             "#000028"
            ],
            [
             0.8,
             "#000029"
            ],
            [
             0.9,
             "#000030"
            ],
            [
             1,
             "#000031"
            ]
           ],
           "sequential": [
            [
             0,
             "#000011"
            ],
            [
             0.1111111111111111,
             "#000012"
            ],
            [
             0.2222222222222222,
             "#000013"
            ],
            [
             0.3333333333333333,
             "#000014"
            ],
            [
             0.4444444444444444,
             "#000015"
            ],
            [
             0.5555555555555556,
             "#000016"
            ],
            [
             0.6666666666666666,
             "#000017"
            ],
            [
             0.7777777777777778,
             "#000018"
            ],
            [
             0.8888888888888888,
             "#000019"
            ],
            [
             1,
             "#000020"
            ]
           ],
           "sequentialminus": [
            [
             0,
             "#000011"
            ],
            [
             0.1111111111111111,
             "#000012"
            ],
            [
             0.2222222222222222,
             "#000013"
            ],
            [
             0.3333333333333333,
             "#000014"
            ],
            [
             0.4444444444444444,
             "#000015"
            ],
            [
             0.5555555555555556,
             "#000016"
            ],
            [
             0.6666666666666666,
             "#000017"
            ],
            [
             0.7777777777777778,
             "#000018"
            ],
            [
             0.8888888888888888,
             "#000019"
            ],
            [
             1,
             "#000020"
            ]
           ]
          },
          "colorway": [
           "#000001",
           "#000002",
           "#000003",
           "#000004",
           "#000005",
           "#000006",
           "#000007",
           "#000008",
           "#000009",
           "#000010"
          ]
         }
        },
        "title": {
         "text": "Vehicle Types by Manufacturer"
        },
        "xaxis": {
         "anchor": "y",
         "categoryorder": "total descending",
         "domain": [
          0,
          1
         ],
         "title": {
          "text": "Manufacturer"
         }
        },
        "yaxis": {
         "anchor": "x",
         "domain": [
          0,
          1
         ],
         "title": {
          "text": "Count"
         }
        }
       }
      }
     },
     "metadata": {},
     "output_type": "display_data"
    }
   ],
   "source": [
    "# Group by manufacturer and type to get the counts\n",
    "manufacturer_type_counts = df.groupby(['manufacturer', 'type']).size().unstack(fill_value=0)\n",
    "# Reset index to ensure 'manufacturer' becomes a column\n",
    "manufacturer_type_counts = manufacturer_type_counts.reset_index()\n",
    "\n",
    "# Melt the dataframe to create a long format suitable for Plotly Express\n",
    "manufacturer_type_counts_melted = pd.melt(manufacturer_type_counts, id_vars=['manufacturer'], var_name='type', value_name='count')\n",
    "\n",
    "# Plot using Plotly Express\n",
    "fig = px.bar(manufacturer_type_counts_melted, x='manufacturer', y='count', color='type', barmode='stack',\n",
    "             title='Vehicle Types by Manufacturer', labels={'manufacturer': 'Manufacturer', 'count': 'Count', 'type': 'Vehicle Type'})\n",
    "\n",
    "# Customize layout\n",
    "fig.update_layout(\n",
    "    xaxis={'categoryorder': 'total descending'},\n",
    "    legend_title_text='Vehicle Type'\n",
    ")\n",
    "\n",
    "# Show the plot\n",
    "st.plotly_chart(fig)"
   ]
  },
  {
   "cell_type": "code",
   "execution_count": 24,
   "metadata": {},
   "outputs": [
    {
     "name": "stderr",
     "output_type": "stream",
     "text": [
      "2024-07-06 12:17:12.442 \n",
      "  \u001b[33m\u001b[1mWarning:\u001b[0m to view this Streamlit app on a browser, run it with the following\n",
      "  command:\n",
      "\n",
      "    streamlit run c:\\Users\\joeyc\\anaconda3\\Lib\\site-packages\\ipykernel_launcher.py [ARGUMENTS]\n"
     ]
    },
    {
     "data": {
      "text/plain": [
       "DeltaGenerator()"
      ]
     },
     "execution_count": 24,
     "metadata": {},
     "output_type": "execute_result"
    }
   ],
   "source": [
    "# Ensure columns are numeric if needed\n",
    "df['model_year'] = pd.to_numeric(df['model_year'], errors='coerce')\n",
    "df['price'] = pd.to_numeric(df['price'], errors='coerce')\n",
    "\n",
    "# Title and description\n",
    "st.title('Model Year vs. Price of Used Cars in the US')\n",
    "st.write('Explore how the price of used cars varies by model year.')\n",
    "\n",
    "# Plot using Plotly Express\n",
    "fig = px.scatter(df, x='model_year', y='price', title='Model Year vs. Price',\n",
    "                 labels={'model_year': 'Model Year', 'price': 'Price'})\n",
    "\n",
    "# Customize layout (optional)\n",
    "fig.update_layout(\n",
    "    xaxis_title='Model Year',\n",
    "    yaxis_title='Price'\n",
    ")\n",
    "\n",
    "# Display the plot using Streamlit's Plotly support\n",
    "st.plotly_chart(fig)"
   ]
  },
  {
   "cell_type": "code",
   "execution_count": null,
   "metadata": {},
   "outputs": [],
   "source": []
  }
 ],
 "metadata": {
  "kernelspec": {
   "display_name": "base",
   "language": "python",
   "name": "python3"
  },
  "language_info": {
   "codemirror_mode": {
    "name": "ipython",
    "version": 3
   },
   "file_extension": ".py",
   "mimetype": "text/x-python",
   "name": "python",
   "nbconvert_exporter": "python",
   "pygments_lexer": "ipython3",
   "version": "3.11.7"
  }
 },
 "nbformat": 4,
 "nbformat_minor": 2
}
